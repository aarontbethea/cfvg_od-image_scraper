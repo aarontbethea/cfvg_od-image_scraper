{
 "cells": [
  {
   "cell_type": "code",
   "execution_count": 19,
   "metadata": {},
   "outputs": [
    {
     "name": "stdout",
     "output_type": "stream",
     "text": [
      "Checking webdriver\n",
      "No chromedriver.exe found in specified path\n",
      "\n",
      "Attempting to download latest driver online......\n",
      "https://chromedriver.storage.googleapis.com/100.0.4896.60/chromedriver_win32.zip\n"
     ]
    },
    {
     "ename": "PermissionError",
     "evalue": "[Errno 13] Permission denied: 'drivers\\\\chromedriver.exe'",
     "output_type": "error",
     "traceback": [
      "\u001b[1;31m---------------------------------------------------------------------------\u001b[0m",
      "\u001b[1;31mFileNotFoundError\u001b[0m                         Traceback (most recent call last)",
      "File \u001b[1;32mc:\\Users\\at_be\\Documents\\Software Dev\\Python\\WebScrapers\\cfvg_od-image_scraper\\cfvg_env\\lib\\site-packages\\webdriver_auto_update.py:45\u001b[0m, in \u001b[0;36mcheck_driver\u001b[1;34m(driver_directory)\u001b[0m\n\u001b[0;32m     <a href='file:///c%3A/Users/at_be/Documents/Software%20Dev/Python/WebScrapers/cfvg_od-image_scraper/cfvg_env/lib/site-packages/webdriver_auto_update.py?line=42'>43</a>\u001b[0m \u001b[39mtry\u001b[39;00m:\n\u001b[0;32m     <a href='file:///c%3A/Users/at_be/Documents/Software%20Dev/Python/WebScrapers/cfvg_od-image_scraper/cfvg_env/lib/site-packages/webdriver_auto_update.py?line=43'>44</a>\u001b[0m     \u001b[39m# Executes cmd line entry to check for existing web-driver version locally\u001b[39;00m\n\u001b[1;32m---> <a href='file:///c%3A/Users/at_be/Documents/Software%20Dev/Python/WebScrapers/cfvg_od-image_scraper/cfvg_env/lib/site-packages/webdriver_auto_update.py?line=44'>45</a>\u001b[0m     cmd_run \u001b[39m=\u001b[39m subprocess\u001b[39m.\u001b[39;49mrun(\u001b[39m\"\u001b[39;49m\u001b[39mchromedriver --version\u001b[39;49m\u001b[39m\"\u001b[39;49m,\n\u001b[0;32m     <a href='file:///c%3A/Users/at_be/Documents/Software%20Dev/Python/WebScrapers/cfvg_od-image_scraper/cfvg_env/lib/site-packages/webdriver_auto_update.py?line=45'>46</a>\u001b[0m                              capture_output\u001b[39m=\u001b[39;49m\u001b[39mTrue\u001b[39;49;00m,\n\u001b[0;32m     <a href='file:///c%3A/Users/at_be/Documents/Software%20Dev/Python/WebScrapers/cfvg_od-image_scraper/cfvg_env/lib/site-packages/webdriver_auto_update.py?line=46'>47</a>\u001b[0m                              text\u001b[39m=\u001b[39;49m\u001b[39mTrue\u001b[39;49;00m)\n\u001b[0;32m     <a href='file:///c%3A/Users/at_be/Documents/Software%20Dev/Python/WebScrapers/cfvg_od-image_scraper/cfvg_env/lib/site-packages/webdriver_auto_update.py?line=47'>48</a>\u001b[0m \u001b[39mexcept\u001b[39;00m \u001b[39mFileNotFoundError\u001b[39;00m:\n\u001b[0;32m     <a href='file:///c%3A/Users/at_be/Documents/Software%20Dev/Python/WebScrapers/cfvg_od-image_scraper/cfvg_env/lib/site-packages/webdriver_auto_update.py?line=48'>49</a>\u001b[0m     \u001b[39m# Handling case if chromedriver not found in path\u001b[39;00m\n",
      "File \u001b[1;32m~\\AppData\\Local\\Programs\\Python\\Python310\\lib\\subprocess.py:501\u001b[0m, in \u001b[0;36mrun\u001b[1;34m(input, capture_output, timeout, check, *popenargs, **kwargs)\u001b[0m\n\u001b[0;32m    <a href='file:///c%3A/Users/at_be/AppData/Local/Programs/Python/Python310/lib/subprocess.py?line=498'>499</a>\u001b[0m     kwargs[\u001b[39m'\u001b[39m\u001b[39mstderr\u001b[39m\u001b[39m'\u001b[39m] \u001b[39m=\u001b[39m PIPE\n\u001b[1;32m--> <a href='file:///c%3A/Users/at_be/AppData/Local/Programs/Python/Python310/lib/subprocess.py?line=500'>501</a>\u001b[0m \u001b[39mwith\u001b[39;00m Popen(\u001b[39m*\u001b[39mpopenargs, \u001b[39m*\u001b[39m\u001b[39m*\u001b[39mkwargs) \u001b[39mas\u001b[39;00m process:\n\u001b[0;32m    <a href='file:///c%3A/Users/at_be/AppData/Local/Programs/Python/Python310/lib/subprocess.py?line=501'>502</a>\u001b[0m     \u001b[39mtry\u001b[39;00m:\n",
      "File \u001b[1;32m~\\AppData\\Local\\Programs\\Python\\Python310\\lib\\subprocess.py:966\u001b[0m, in \u001b[0;36mPopen.__init__\u001b[1;34m(self, args, bufsize, executable, stdin, stdout, stderr, preexec_fn, close_fds, shell, cwd, env, universal_newlines, startupinfo, creationflags, restore_signals, start_new_session, pass_fds, user, group, extra_groups, encoding, errors, text, umask, pipesize)\u001b[0m\n\u001b[0;32m    <a href='file:///c%3A/Users/at_be/AppData/Local/Programs/Python/Python310/lib/subprocess.py?line=962'>963</a>\u001b[0m             \u001b[39mself\u001b[39m\u001b[39m.\u001b[39mstderr \u001b[39m=\u001b[39m io\u001b[39m.\u001b[39mTextIOWrapper(\u001b[39mself\u001b[39m\u001b[39m.\u001b[39mstderr,\n\u001b[0;32m    <a href='file:///c%3A/Users/at_be/AppData/Local/Programs/Python/Python310/lib/subprocess.py?line=963'>964</a>\u001b[0m                     encoding\u001b[39m=\u001b[39mencoding, errors\u001b[39m=\u001b[39merrors)\n\u001b[1;32m--> <a href='file:///c%3A/Users/at_be/AppData/Local/Programs/Python/Python310/lib/subprocess.py?line=965'>966</a>\u001b[0m     \u001b[39mself\u001b[39;49m\u001b[39m.\u001b[39;49m_execute_child(args, executable, preexec_fn, close_fds,\n\u001b[0;32m    <a href='file:///c%3A/Users/at_be/AppData/Local/Programs/Python/Python310/lib/subprocess.py?line=966'>967</a>\u001b[0m                         pass_fds, cwd, env,\n\u001b[0;32m    <a href='file:///c%3A/Users/at_be/AppData/Local/Programs/Python/Python310/lib/subprocess.py?line=967'>968</a>\u001b[0m                         startupinfo, creationflags, shell,\n\u001b[0;32m    <a href='file:///c%3A/Users/at_be/AppData/Local/Programs/Python/Python310/lib/subprocess.py?line=968'>969</a>\u001b[0m                         p2cread, p2cwrite,\n\u001b[0;32m    <a href='file:///c%3A/Users/at_be/AppData/Local/Programs/Python/Python310/lib/subprocess.py?line=969'>970</a>\u001b[0m                         c2pread, c2pwrite,\n\u001b[0;32m    <a href='file:///c%3A/Users/at_be/AppData/Local/Programs/Python/Python310/lib/subprocess.py?line=970'>971</a>\u001b[0m                         errread, errwrite,\n\u001b[0;32m    <a href='file:///c%3A/Users/at_be/AppData/Local/Programs/Python/Python310/lib/subprocess.py?line=971'>972</a>\u001b[0m                         restore_signals,\n\u001b[0;32m    <a href='file:///c%3A/Users/at_be/AppData/Local/Programs/Python/Python310/lib/subprocess.py?line=972'>973</a>\u001b[0m                         gid, gids, uid, umask,\n\u001b[0;32m    <a href='file:///c%3A/Users/at_be/AppData/Local/Programs/Python/Python310/lib/subprocess.py?line=973'>974</a>\u001b[0m                         start_new_session)\n\u001b[0;32m    <a href='file:///c%3A/Users/at_be/AppData/Local/Programs/Python/Python310/lib/subprocess.py?line=974'>975</a>\u001b[0m \u001b[39mexcept\u001b[39;00m:\n\u001b[0;32m    <a href='file:///c%3A/Users/at_be/AppData/Local/Programs/Python/Python310/lib/subprocess.py?line=975'>976</a>\u001b[0m     \u001b[39m# Cleanup if the child failed starting.\u001b[39;00m\n",
      "File \u001b[1;32m~\\AppData\\Local\\Programs\\Python\\Python310\\lib\\subprocess.py:1435\u001b[0m, in \u001b[0;36mPopen._execute_child\u001b[1;34m(self, args, executable, preexec_fn, close_fds, pass_fds, cwd, env, startupinfo, creationflags, shell, p2cread, p2cwrite, c2pread, c2pwrite, errread, errwrite, unused_restore_signals, unused_gid, unused_gids, unused_uid, unused_umask, unused_start_new_session)\u001b[0m\n\u001b[0;32m   <a href='file:///c%3A/Users/at_be/AppData/Local/Programs/Python/Python310/lib/subprocess.py?line=1433'>1434</a>\u001b[0m \u001b[39mtry\u001b[39;00m:\n\u001b[1;32m-> <a href='file:///c%3A/Users/at_be/AppData/Local/Programs/Python/Python310/lib/subprocess.py?line=1434'>1435</a>\u001b[0m     hp, ht, pid, tid \u001b[39m=\u001b[39m _winapi\u001b[39m.\u001b[39;49mCreateProcess(executable, args,\n\u001b[0;32m   <a href='file:///c%3A/Users/at_be/AppData/Local/Programs/Python/Python310/lib/subprocess.py?line=1435'>1436</a>\u001b[0m                              \u001b[39m# no special security\u001b[39;49;00m\n\u001b[0;32m   <a href='file:///c%3A/Users/at_be/AppData/Local/Programs/Python/Python310/lib/subprocess.py?line=1436'>1437</a>\u001b[0m                              \u001b[39mNone\u001b[39;49;00m, \u001b[39mNone\u001b[39;49;00m,\n\u001b[0;32m   <a href='file:///c%3A/Users/at_be/AppData/Local/Programs/Python/Python310/lib/subprocess.py?line=1437'>1438</a>\u001b[0m                              \u001b[39mint\u001b[39;49m(\u001b[39mnot\u001b[39;49;00m close_fds),\n\u001b[0;32m   <a href='file:///c%3A/Users/at_be/AppData/Local/Programs/Python/Python310/lib/subprocess.py?line=1438'>1439</a>\u001b[0m                              creationflags,\n\u001b[0;32m   <a href='file:///c%3A/Users/at_be/AppData/Local/Programs/Python/Python310/lib/subprocess.py?line=1439'>1440</a>\u001b[0m                              env,\n\u001b[0;32m   <a href='file:///c%3A/Users/at_be/AppData/Local/Programs/Python/Python310/lib/subprocess.py?line=1440'>1441</a>\u001b[0m                              cwd,\n\u001b[0;32m   <a href='file:///c%3A/Users/at_be/AppData/Local/Programs/Python/Python310/lib/subprocess.py?line=1441'>1442</a>\u001b[0m                              startupinfo)\n\u001b[0;32m   <a href='file:///c%3A/Users/at_be/AppData/Local/Programs/Python/Python310/lib/subprocess.py?line=1442'>1443</a>\u001b[0m \u001b[39mfinally\u001b[39;00m:\n\u001b[0;32m   <a href='file:///c%3A/Users/at_be/AppData/Local/Programs/Python/Python310/lib/subprocess.py?line=1443'>1444</a>\u001b[0m     \u001b[39m# Child is launched. Close the parent's copy of those pipe\u001b[39;00m\n\u001b[0;32m   <a href='file:///c%3A/Users/at_be/AppData/Local/Programs/Python/Python310/lib/subprocess.py?line=1444'>1445</a>\u001b[0m     \u001b[39m# handles that only the child should have open.  You need\u001b[39;00m\n\u001b[1;32m   (...)\u001b[0m\n\u001b[0;32m   <a href='file:///c%3A/Users/at_be/AppData/Local/Programs/Python/Python310/lib/subprocess.py?line=1447'>1448</a>\u001b[0m     \u001b[39m# pipe will not close when the child process exits and the\u001b[39;00m\n\u001b[0;32m   <a href='file:///c%3A/Users/at_be/AppData/Local/Programs/Python/Python310/lib/subprocess.py?line=1448'>1449</a>\u001b[0m     \u001b[39m# ReadFile will hang.\u001b[39;00m\n",
      "\u001b[1;31mFileNotFoundError\u001b[0m: [WinError 2] The system cannot find the file specified",
      "\nDuring handling of the above exception, another exception occurred:\n",
      "\u001b[1;31mPermissionError\u001b[0m                           Traceback (most recent call last)",
      "\u001b[1;32mc:\\Users\\at_be\\Documents\\Software Dev\\Python\\WebScrapers\\cfvg_od-image_scraper\\sandbox.ipynb Cell 1'\u001b[0m in \u001b[0;36m<cell line: 13>\u001b[1;34m()\u001b[0m\n\u001b[0;32m     <a href='vscode-notebook-cell:/c%3A/Users/at_be/Documents/Software%20Dev/Python/WebScrapers/cfvg_od-image_scraper/sandbox.ipynb#ch0000000?line=10'>11</a>\u001b[0m \u001b[39mprint\u001b[39m(\u001b[39m\"\u001b[39m\u001b[39mChecking webdriver\u001b[39m\u001b[39m\"\u001b[39m)\n\u001b[0;32m     <a href='vscode-notebook-cell:/c%3A/Users/at_be/Documents/Software%20Dev/Python/WebScrapers/cfvg_od-image_scraper/sandbox.ipynb#ch0000000?line=11'>12</a>\u001b[0m \u001b[39m#check and install Selenium web driver.\u001b[39;00m\n\u001b[1;32m---> <a href='vscode-notebook-cell:/c%3A/Users/at_be/Documents/Software%20Dev/Python/WebScrapers/cfvg_od-image_scraper/sandbox.ipynb#ch0000000?line=12'>13</a>\u001b[0m check_driver(WEB_DRIVER_INSTALL_PATH)\n",
      "File \u001b[1;32mc:\\Users\\at_be\\Documents\\Software Dev\\Python\\WebScrapers\\cfvg_od-image_scraper\\cfvg_env\\lib\\site-packages\\webdriver_auto_update.py:51\u001b[0m, in \u001b[0;36mcheck_driver\u001b[1;34m(driver_directory)\u001b[0m\n\u001b[0;32m     <a href='file:///c%3A/Users/at_be/Documents/Software%20Dev/Python/WebScrapers/cfvg_od-image_scraper/cfvg_env/lib/site-packages/webdriver_auto_update.py?line=47'>48</a>\u001b[0m \u001b[39mexcept\u001b[39;00m \u001b[39mFileNotFoundError\u001b[39;00m:\n\u001b[0;32m     <a href='file:///c%3A/Users/at_be/Documents/Software%20Dev/Python/WebScrapers/cfvg_od-image_scraper/cfvg_env/lib/site-packages/webdriver_auto_update.py?line=48'>49</a>\u001b[0m     \u001b[39m# Handling case if chromedriver not found in path\u001b[39;00m\n\u001b[0;32m     <a href='file:///c%3A/Users/at_be/Documents/Software%20Dev/Python/WebScrapers/cfvg_od-image_scraper/cfvg_env/lib/site-packages/webdriver_auto_update.py?line=49'>50</a>\u001b[0m     \u001b[39mprint\u001b[39m(\u001b[39m\"\u001b[39m\u001b[39mNo chromedriver.exe found in specified path\u001b[39m\u001b[39m\\n\u001b[39;00m\u001b[39m\"\u001b[39m)\n\u001b[1;32m---> <a href='file:///c%3A/Users/at_be/Documents/Software%20Dev/Python/WebScrapers/cfvg_od-image_scraper/cfvg_env/lib/site-packages/webdriver_auto_update.py?line=50'>51</a>\u001b[0m     download_latest_version(online_driver_version, driver_directory)\n\u001b[0;32m     <a href='file:///c%3A/Users/at_be/Documents/Software%20Dev/Python/WebScrapers/cfvg_od-image_scraper/cfvg_env/lib/site-packages/webdriver_auto_update.py?line=51'>52</a>\u001b[0m \u001b[39melse\u001b[39;00m:\n\u001b[0;32m     <a href='file:///c%3A/Users/at_be/Documents/Software%20Dev/Python/WebScrapers/cfvg_od-image_scraper/cfvg_env/lib/site-packages/webdriver_auto_update.py?line=52'>53</a>\u001b[0m     \u001b[39m# Extract local driver version number as string from terminal output\u001b[39;00m\n\u001b[0;32m     <a href='file:///c%3A/Users/at_be/Documents/Software%20Dev/Python/WebScrapers/cfvg_od-image_scraper/cfvg_env/lib/site-packages/webdriver_auto_update.py?line=53'>54</a>\u001b[0m     local_driver_version \u001b[39m=\u001b[39m cmd_run\u001b[39m.\u001b[39mstdout\u001b[39m.\u001b[39msplit()[\u001b[39m1\u001b[39m]\n",
      "File \u001b[1;32mc:\\Users\\at_be\\Documents\\Software Dev\\Python\\WebScrapers\\cfvg_od-image_scraper\\cfvg_env\\lib\\site-packages\\webdriver_auto_update.py:25\u001b[0m, in \u001b[0;36mdownload_latest_version\u001b[1;34m(version_number, driver_directory)\u001b[0m\n\u001b[0;32m     <a href='file:///c%3A/Users/at_be/Documents/Software%20Dev/Python/WebScrapers/cfvg_od-image_scraper/cfvg_env/lib/site-packages/webdriver_auto_update.py?line=21'>22</a>\u001b[0m \u001b[39m# Read zip file\u001b[39;00m\n\u001b[0;32m     <a href='file:///c%3A/Users/at_be/Documents/Software%20Dev/Python/WebScrapers/cfvg_od-image_scraper/cfvg_env/lib/site-packages/webdriver_auto_update.py?line=22'>23</a>\u001b[0m \u001b[39mwith\u001b[39;00m zipfile\u001b[39m.\u001b[39mZipFile(latest_driver_zip, \u001b[39m'\u001b[39m\u001b[39mr\u001b[39m\u001b[39m'\u001b[39m) \u001b[39mas\u001b[39;00m downloaded_zip:\n\u001b[0;32m     <a href='file:///c%3A/Users/at_be/Documents/Software%20Dev/Python/WebScrapers/cfvg_od-image_scraper/cfvg_env/lib/site-packages/webdriver_auto_update.py?line=23'>24</a>\u001b[0m     \u001b[39m# Extract contents from downloaded zip file to specified folder path\u001b[39;00m\n\u001b[1;32m---> <a href='file:///c%3A/Users/at_be/Documents/Software%20Dev/Python/WebScrapers/cfvg_od-image_scraper/cfvg_env/lib/site-packages/webdriver_auto_update.py?line=24'>25</a>\u001b[0m     downloaded_zip\u001b[39m.\u001b[39;49mextractall(path\u001b[39m=\u001b[39;49mdriver_directory)\n\u001b[0;32m     <a href='file:///c%3A/Users/at_be/Documents/Software%20Dev/Python/WebScrapers/cfvg_od-image_scraper/cfvg_env/lib/site-packages/webdriver_auto_update.py?line=25'>26</a>\u001b[0m     \u001b[39mprint\u001b[39m(\u001b[39mf\u001b[39m\u001b[39m\"\u001b[39m\u001b[39m\\n\u001b[39;00m\u001b[39mSuccessfully downloaded version \u001b[39m\u001b[39m{\u001b[39;00mversion_number\u001b[39m}\u001b[39;00m\u001b[39m to:\u001b[39m\u001b[39m\\n\u001b[39;00m\u001b[39m{\u001b[39;00mdriver_directory\u001b[39m}\u001b[39;00m\u001b[39m\"\u001b[39m)\n\u001b[0;32m     <a href='file:///c%3A/Users/at_be/Documents/Software%20Dev/Python/WebScrapers/cfvg_od-image_scraper/cfvg_env/lib/site-packages/webdriver_auto_update.py?line=26'>27</a>\u001b[0m \u001b[39m# Delete the zip file downloaded\u001b[39;00m\n",
      "File \u001b[1;32m~\\AppData\\Local\\Programs\\Python\\Python310\\lib\\zipfile.py:1634\u001b[0m, in \u001b[0;36mZipFile.extractall\u001b[1;34m(self, path, members, pwd)\u001b[0m\n\u001b[0;32m   <a href='file:///c%3A/Users/at_be/AppData/Local/Programs/Python/Python310/lib/zipfile.py?line=1630'>1631</a>\u001b[0m     path \u001b[39m=\u001b[39m os\u001b[39m.\u001b[39mfspath(path)\n\u001b[0;32m   <a href='file:///c%3A/Users/at_be/AppData/Local/Programs/Python/Python310/lib/zipfile.py?line=1632'>1633</a>\u001b[0m \u001b[39mfor\u001b[39;00m zipinfo \u001b[39min\u001b[39;00m members:\n\u001b[1;32m-> <a href='file:///c%3A/Users/at_be/AppData/Local/Programs/Python/Python310/lib/zipfile.py?line=1633'>1634</a>\u001b[0m     \u001b[39mself\u001b[39;49m\u001b[39m.\u001b[39;49m_extract_member(zipinfo, path, pwd)\n",
      "File \u001b[1;32m~\\AppData\\Local\\Programs\\Python\\Python310\\lib\\zipfile.py:1688\u001b[0m, in \u001b[0;36mZipFile._extract_member\u001b[1;34m(self, member, targetpath, pwd)\u001b[0m\n\u001b[0;32m   <a href='file:///c%3A/Users/at_be/AppData/Local/Programs/Python/Python310/lib/zipfile.py?line=1683'>1684</a>\u001b[0m         os\u001b[39m.\u001b[39mmkdir(targetpath)\n\u001b[0;32m   <a href='file:///c%3A/Users/at_be/AppData/Local/Programs/Python/Python310/lib/zipfile.py?line=1684'>1685</a>\u001b[0m     \u001b[39mreturn\u001b[39;00m targetpath\n\u001b[0;32m   <a href='file:///c%3A/Users/at_be/AppData/Local/Programs/Python/Python310/lib/zipfile.py?line=1686'>1687</a>\u001b[0m \u001b[39mwith\u001b[39;00m \u001b[39mself\u001b[39m\u001b[39m.\u001b[39mopen(member, pwd\u001b[39m=\u001b[39mpwd) \u001b[39mas\u001b[39;00m source, \\\n\u001b[1;32m-> <a href='file:///c%3A/Users/at_be/AppData/Local/Programs/Python/Python310/lib/zipfile.py?line=1687'>1688</a>\u001b[0m      \u001b[39mopen\u001b[39;49m(targetpath, \u001b[39m\"\u001b[39;49m\u001b[39mwb\u001b[39;49m\u001b[39m\"\u001b[39;49m) \u001b[39mas\u001b[39;00m target:\n\u001b[0;32m   <a href='file:///c%3A/Users/at_be/AppData/Local/Programs/Python/Python310/lib/zipfile.py?line=1688'>1689</a>\u001b[0m     shutil\u001b[39m.\u001b[39mcopyfileobj(source, target)\n\u001b[0;32m   <a href='file:///c%3A/Users/at_be/AppData/Local/Programs/Python/Python310/lib/zipfile.py?line=1690'>1691</a>\u001b[0m \u001b[39mreturn\u001b[39;00m targetpath\n",
      "\u001b[1;31mPermissionError\u001b[0m: [Errno 13] Permission denied: 'drivers\\\\chromedriver.exe'"
     ]
    }
   ],
   "source": [
    "#auto update selenium\n",
    "# webdriver_auto_update.py\n",
    "from webdriver_auto_update import check_driver\n",
    "from selenium import webdriver\n",
    "from selenium.webdriver.common.keys import Keys\n",
    "import time \n",
    "import os\n",
    "\n",
    "#web driver folder\n",
    "WEB_DRIVER_INSTALL_PATH = \"drivers\"\n",
    "print(\"Checking webdriver\")\n",
    "#check and install Selenium web driver.\n",
    "check_driver(WEB_DRIVER_INSTALL_PATH)"
   ]
  },
  {
   "cell_type": "code",
   "execution_count": 20,
   "metadata": {},
   "outputs": [],
   "source": [
    "def get_selenium():                           \n",
    "    options = webdriver.ChromeOptions()\n",
    "    options.add_argument('--ignore-certificate-errors')\n",
    "    options.add_argument('--incognito')\n",
    "    options.add_argument('headless')                        \n",
    "    driver = webdriver.Chrome(executable_path='drivers\\chromedriver.exe',chrome_options=options)\n",
    "    return (driver)"
   ]
  },
  {
   "cell_type": "code",
   "execution_count": 21,
   "metadata": {},
   "outputs": [],
   "source": [
    "#scrape cards from CFVG site\n",
    "resource_url = \"https://en.cf-vanguard.com/cardlist/cardsearch/?expansion=167\""
   ]
  },
  {
   "cell_type": "code",
   "execution_count": 22,
   "metadata": {},
   "outputs": [
    {
     "name": "stderr",
     "output_type": "stream",
     "text": [
      "C:\\Users\\at_be\\AppData\\Local\\Temp\\ipykernel_6060\\1523202300.py:6: DeprecationWarning: executable_path has been deprecated, please pass in a Service object\n",
      "  driver = webdriver.Chrome(executable_path='drivers\\chromedriver.exe',chrome_options=options)\n",
      "C:\\Users\\at_be\\AppData\\Local\\Temp\\ipykernel_6060\\1523202300.py:6: DeprecationWarning: use options instead of chrome_options\n",
      "  driver = webdriver.Chrome(executable_path='drivers\\chromedriver.exe',chrome_options=options)\n"
     ]
    },
    {
     "name": "stdout",
     "output_type": "stream",
     "text": [
      "2623\n"
     ]
    }
   ],
   "source": [
    "browser = get_selenium()                           \n",
    "browser.get(resource_url)\n",
    "\n",
    "#get length of page\n",
    "lenOfPage = browser.execute_script(\"window.scrollTo(0, document.body.scrollHeight); var lenOfPage=document.body.scrollHeight;return lenOfPage;\")\n",
    "print(lenOfPage)"
   ]
  },
  {
   "cell_type": "code",
   "execution_count": 23,
   "metadata": {},
   "outputs": [],
   "source": [
    "# Selenium script to scroll to the bottom, wait 3 seconds for the next batch of data to load, then continue scrolling.  It will continue to do this until the page stops loading new data.\n",
    "from bs4 import BeautifulSoup\n",
    "\n",
    "match = False\n",
    "while not match:\n",
    "    last_count = lenOfPage\n",
    "    time.sleep(3)\n",
    "    lenOfPage = browser.execute_script(\"window.scrollTo(0, document.body.scrollHeight);var lenOfPage=document.body.scrollHeight;return lenOfPage;\")\n",
    "    if last_count == lenOfPage:\n",
    "        match = True\n",
    "\n",
    "#load page data\n",
    "source_data = browser.page_source\n",
    "\n",
    "#grab beautiful soup object\n",
    "page_soup = BeautifulSoup(source_data)\n",
    "\n",
    "\n",
    "\n"
   ]
  },
  {
   "cell_type": "code",
   "execution_count": 26,
   "metadata": {},
   "outputs": [
    {
     "name": "stdout",
     "output_type": "stream",
     "text": [
      "[<div class=\"cardlist_gallerylist\" id=\"cardlist-container\">\n",
      "<ul>\n",
      "<li><a href=\"/cardlist/?cardno=D-BT01/001EN&amp;expansion=167\"><img alt=\"Vairina Valiente\" class=\"object-fit-img\" src=\"https://s3-ap-northeast-1.amazonaws.com/en.cf-vanguard.com/wordpress/wp-content/images/cardlist/dbt01/dbt01_001.png\" title=\"Vairina Valiente\"/></a></li>\n",
      "<li><a href=\"/cardlist/?cardno=D-BT01/002EN&amp;expansion=167\"><img alt=\"Heavy Artillery of Dust Storm, Eugene\" class=\"object-fit-img\" src=\"https://s3-ap-northeast-1.amazonaws.com/en.cf-vanguard.com/wordpress/wp-content/images/cardlist/dbt01/dbt01_002.png\" title=\"Heavy Artillery of Dust Storm, Eugene\"/></a></li>\n",
      "<li><a href=\"/cardlist/?cardno=D-BT01/003EN&amp;expansion=167\"><img alt=\"Master of Gravity, Baromagnes\" class=\"object-fit-img\" src=\"https://s3-ap-northeast-1.amazonaws.com/en.cf-vanguard.com/wordpress/wp-content/images/cardlist/dbt01/dbt01_003.png\" title=\"Master of Gravity, Baromagnes\"/></a></li>\n",
      "<li><a href=\"/cardlist/?cardno=D-BT01/004EN&amp;expansion=167\"><img alt=\"Diabolos Boys, Eden\" class=\"object-fit-img\" src=\"https://s3-ap-northeast-1.amazonaws.com/en.cf-vanguard.com/wordpress/wp-content/images/cardlist/dbt01/dbt01_004.png\" title=\"Diabolos Boys, Eden\"/></a></li>\n",
      "<li><a href=\"/cardlist/?cardno=D-BT01/005EN&amp;expansion=167\"><img alt=\"Cardinal Deus, Orfist\" class=\"object-fit-img\" src=\"https://s3-ap-northeast-1.amazonaws.com/en.cf-vanguard.com/wordpress/wp-content/images/cardlist/dbt01/dbt01_005.png\" title=\"Cardinal Deus, Orfist\"/></a></li>\n",
      "<li><a href=\"/cardlist/?cardno=D-BT01/006EN&amp;expansion=167\"><img alt=\"Aurora Battle Princess, Agra Rouge\" class=\"object-fit-img\" src=\"https://s3-ap-northeast-1.amazonaws.com/en.cf-vanguard.com/wordpress/wp-content/images/cardlist/dbt01/dbt01_006.png\" title=\"Aurora Battle Princess, Agra Rouge\"/></a></li>\n",
      "<li><a href=\"/cardlist/?cardno=D-BT01/007EN&amp;expansion=167\"><img alt=\"Grand Heavenly Sword, Alden\" class=\"object-fit-img\" src=\"https://s3-ap-northeast-1.amazonaws.com/en.cf-vanguard.com/wordpress/wp-content/images/cardlist/dbt01/dbt01_007.png\" title=\"Grand Heavenly Sword, Alden\"/></a></li>\n",
      "<li><a href=\"/cardlist/?cardno=D-BT01/008EN&amp;expansion=167\"><img alt=\"Hexaorb Sorceress\" class=\"object-fit-img\" src=\"https://s3-ap-northeast-1.amazonaws.com/en.cf-vanguard.com/wordpress/wp-content/images/cardlist/dbt01/dbt01_008.png\" title=\"Hexaorb Sorceress\"/></a></li>\n",
      "<li><a href=\"/cardlist/?cardno=D-BT01/009EN&amp;expansion=167\"><img alt=\"Mysterious Rain Spiritualist, Zorga\" class=\"object-fit-img\" src=\"https://s3-ap-northeast-1.amazonaws.com/en.cf-vanguard.com/wordpress/wp-content/images/cardlist/dbt01/dbt01_009.png\" title=\"Mysterious Rain Spiritualist, Zorga\"/></a></li>\n",
      "<li><a href=\"/cardlist/?cardno=D-BT01/010EN&amp;expansion=167\"><img alt=\"Sylvan Horned Beast, Giunosla\" class=\"object-fit-img\" src=\"https://s3-ap-northeast-1.amazonaws.com/en.cf-vanguard.com/wordpress/wp-content/images/cardlist/dbt01/dbt01_010.png\" title=\"Sylvan Horned Beast, Giunosla\"/></a></li>\n",
      "<li><a href=\"/cardlist/?cardno=D-BT01/011EN&amp;expansion=167\"><img alt=\"Vairina Arcs\" class=\"object-fit-img\" src=\"https://s3-ap-northeast-1.amazonaws.com/en.cf-vanguard.com/wordpress/wp-content/images/cardlist/dbt01/dbt01_011.png\" title=\"Vairina Arcs\"/></a></li>\n",
      "<li><a href=\"/cardlist/?cardno=D-BT01/012EN&amp;expansion=167\"><img alt=\"Stealth Dragon, Tensha Stead\" class=\"object-fit-img\" src=\"https://s3-ap-northeast-1.amazonaws.com/en.cf-vanguard.com/wordpress/wp-content/images/cardlist/dbt01/dbt01_012.png\" title=\"Stealth Dragon, Tensha Stead\"/></a></li>\n",
      "<li><a href=\"/cardlist/?cardno=D-BT01/013EN&amp;expansion=167\"><img alt=\"Dragon Deity King of Resurgence, Dragveda\" class=\"object-fit-img\" src=\"https://s3-ap-northeast-1.amazonaws.com/en.cf-vanguard.com/wordpress/wp-content/images/cardlist/dbt01/dbt01_013.png\" title=\"Dragon Deity King of Resurgence, Dragveda\"/></a></li>\n",
      "<li><a href=\"/cardlist/?cardno=D-BT01/014EN&amp;expansion=167\"><img alt=\"Upward Acrobat, Marjorie\" class=\"object-fit-img\" src=\"https://s3-ap-northeast-1.amazonaws.com/en.cf-vanguard.com/wordpress/wp-content/images/cardlist/dbt01/dbt01_014.png\" title=\"Upward Acrobat, Marjorie\"/></a></li>\n",
      "<li><a href=\"/cardlist/?cardno=D-BT01/015EN&amp;expansion=167\"><img alt=\"Steam Battler, Gungnram\" class=\"object-fit-img\" src=\"https://s3-ap-northeast-1.amazonaws.com/en.cf-vanguard.com/wordpress/wp-content/images/cardlist/dbt01/dbt01_015.png\" title=\"Steam Battler, Gungnram\"/></a></li>\n",
      "<li><a href=\"/cardlist/?cardno=D-BT01/016EN&amp;expansion=167\"><img alt=\"Hades Dragon Deity of Resentment, Gallmageheld\" class=\"object-fit-img\" src=\"https://s3-ap-northeast-1.amazonaws.com/en.cf-vanguard.com/wordpress/wp-content/images/cardlist/dbt01/dbt01_016.png\" title=\"Hades Dragon Deity of Resentment, Gallmageheld\"/></a></li>\n",
      "<li><a href=\"/cardlist/?cardno=D-BT01/017EN&amp;expansion=167\"><img alt=\"Hyperspeed Robo, Chevalstud\" class=\"object-fit-img\" src=\"https://s3-ap-northeast-1.amazonaws.com/en.cf-vanguard.com/wordpress/wp-content/images/cardlist/dbt01/dbt01_017.png\" title=\"Hyperspeed Robo, Chevalstud\"/></a></li>\n",
      "<li><a href=\"/cardlist/?cardno=D-BT01/018EN&amp;expansion=167\"><img alt=\"Detonation Mutant, Bobalmine\" class=\"object-fit-img\" src=\"https://s3-ap-northeast-1.amazonaws.com/en.cf-vanguard.com/wordpress/wp-content/images/cardlist/dbt01/dbt01_018.png\" title=\"Detonation Mutant, Bobalmine\"/></a></li>\n",
      "<li><a href=\"/cardlist/?cardno=D-BT01/019EN&amp;expansion=167\"><img alt=\"Star Dragon Deity of Infinitude, Eldobreath\" class=\"object-fit-img\" src=\"https://s3-ap-northeast-1.amazonaws.com/en.cf-vanguard.com/wordpress/wp-content/images/cardlist/dbt01/dbt01_019.png\" title=\"Star Dragon Deity of Infinitude, Eldobreath\"/></a></li>\n",
      "<li><a href=\"/cardlist/?cardno=D-BT01/020EN&amp;expansion=167\"><img alt=\"Knight of War Damage, Fosado\" class=\"object-fit-img\" src=\"https://s3-ap-northeast-1.amazonaws.com/en.cf-vanguard.com/wordpress/wp-content/images/cardlist/dbt01/dbt01_020.png\" title=\"Knight of War Damage, Fosado\"/></a></li>\n",
      "<li><a href=\"/cardlist/?cardno=D-BT01/021EN&amp;expansion=167\"><img alt=\"Painkiller Angel\" class=\"object-fit-img\" src=\"https://s3-ap-northeast-1.amazonaws.com/en.cf-vanguard.com/wordpress/wp-content/images/cardlist/dbt01/dbt01_021.png\" title=\"Painkiller Angel\"/></a></li>\n",
      "<li><a href=\"/cardlist/?cardno=D-BT01/022EN&amp;expansion=167\"><img alt=\"Light Dragon Deity of Honors, Amartinoa\" class=\"object-fit-img\" src=\"https://s3-ap-northeast-1.amazonaws.com/en.cf-vanguard.com/wordpress/wp-content/images/cardlist/dbt01/dbt01_022.png\" title=\"Light Dragon Deity of Honors, Amartinoa\"/></a></li>\n",
      "<li><a href=\"/cardlist/?cardno=D-BT01/023EN&amp;expansion=167\"><img alt=\"Inheritance Maiden, Hendrina\" class=\"object-fit-img\" src=\"https://s3-ap-northeast-1.amazonaws.com/en.cf-vanguard.com/wordpress/wp-content/images/cardlist/dbt01/dbt01_023.png\" title=\"Inheritance Maiden, Hendrina\"/></a></li>\n",
      "<li><a href=\"/cardlist/?cardno=D-BT01/024EN&amp;expansion=167\"><img alt=\"Spurring Maiden, Ellenia\" class=\"object-fit-img\" src=\"https://s3-ap-northeast-1.amazonaws.com/en.cf-vanguard.com/wordpress/wp-content/images/cardlist/dbt01/dbt01_024.png\" title=\"Spurring Maiden, Ellenia\"/></a></li>\n",
      "</ul>\n",
      "</div>]\n"
     ]
    }
   ],
   "source": [
    "results = page_soup.findAll(\"div\",\"cardlist_gallerylist\")\n",
    "print(results)"
   ]
  }
 ],
 "metadata": {
  "interpreter": {
   "hash": "1b3c1d878b6660a3c601f65a9a156c37bd2da20876fcdbbb0ea47d4ca13d69f4"
  },
  "kernelspec": {
   "display_name": "Python 3.10.2 ('cfvg_env': venv)",
   "language": "python",
   "name": "python3"
  },
  "language_info": {
   "codemirror_mode": {
    "name": "ipython",
    "version": 3
   },
   "file_extension": ".py",
   "mimetype": "text/x-python",
   "name": "python",
   "nbconvert_exporter": "python",
   "pygments_lexer": "ipython3",
   "version": "3.10.2"
  },
  "orig_nbformat": 4
 },
 "nbformat": 4,
 "nbformat_minor": 2
}
