{
 "cells": [
  {
   "cell_type": "code",
   "execution_count": 1,
   "metadata": {},
   "outputs": [
    {
     "name": "stdout",
     "output_type": "stream",
     "text": [
      "Checking webdriver\n"
     ]
    },
    {
     "data": {
      "text/plain": [
       "'/Users/aaronbethea/Documents/SoftwareDev/pythonApps/cfvg_od-image_scraper/cfvg_env/lib/python3.10/site-packages/chromedriver_autoinstaller/100/chromedriver'"
      ]
     },
     "execution_count": 1,
     "metadata": {},
     "output_type": "execute_result"
    }
   ],
   "source": [
    "#auto update selenium\n",
    "# webdriver_auto_update.py\n",
    "import chromedriver_autoinstaller\n",
    "from selenium import webdriver\n",
    "from selenium.webdriver.common.keys import Keys\n",
    "import time \n",
    "import os\n",
    "\n",
    "print(\"Checking webdriver\")\n",
    "#check and install Selenium web driver.\n",
    "chromedriver_autoinstaller.install()"
   ]
  },
  {
   "cell_type": "code",
   "execution_count": 15,
   "metadata": {},
   "outputs": [],
   "source": [
    "def get_selenium():                           \n",
    "    options = webdriver.ChromeOptions()\n",
    "    options.add_argument('--ignore-certificate-errors')\n",
    "    options.add_argument('--incognito')\n",
    "    options.add_argument('headless')\n",
    "    options.add_argument('log-level=2') #display erros only                  \n",
    "    driver = webdriver.Chrome(options=options)\n",
    "    return (driver)"
   ]
  },
  {
   "cell_type": "code",
   "execution_count": 16,
   "metadata": {},
   "outputs": [],
   "source": [
    "#scrape cards from CFVG site\n",
    "#resource_url = \"https://en.cf-vanguard.com/cardlist/cardsearch/?expansion=167\"\n",
    "\n",
    "#pull from the card-detail view\n",
    "resource_url = \"https://en.cf-vanguard.com/cardlist/cardsearch/?expansion=167&view=text&sort=no\""
   ]
  },
  {
   "cell_type": "code",
   "execution_count": 18,
   "metadata": {},
   "outputs": [
    {
     "ename": "KeyboardInterrupt",
     "evalue": "",
     "output_type": "error",
     "traceback": [
      "\u001b[0;31m---------------------------------------------------------------------------\u001b[0m",
      "\u001b[0;31mKeyboardInterrupt\u001b[0m                         Traceback (most recent call last)",
      "\u001b[1;32m/Users/aaronbethea/Documents/SoftwareDev/pythonApps/cfvg_od-image_scraper/sandbox.ipynb Cell 4'\u001b[0m in \u001b[0;36m<cell line: 3>\u001b[0;34m()\u001b[0m\n\u001b[1;32m      <a href='vscode-notebook-cell:/Users/aaronbethea/Documents/SoftwareDev/pythonApps/cfvg_od-image_scraper/sandbox.ipynb#ch0000003?line=0'>1</a>\u001b[0m \u001b[39m#load th browser object\u001b[39;00m\n\u001b[1;32m      <a href='vscode-notebook-cell:/Users/aaronbethea/Documents/SoftwareDev/pythonApps/cfvg_od-image_scraper/sandbox.ipynb#ch0000003?line=1'>2</a>\u001b[0m browser \u001b[39m=\u001b[39m get_selenium()                           \n\u001b[0;32m----> <a href='vscode-notebook-cell:/Users/aaronbethea/Documents/SoftwareDev/pythonApps/cfvg_od-image_scraper/sandbox.ipynb#ch0000003?line=2'>3</a>\u001b[0m browser\u001b[39m.\u001b[39;49mget(resource_url)\n",
      "File \u001b[0;32m~/Documents/SoftwareDev/pythonApps/cfvg_od-image_scraper/cfvg_env/lib/python3.10/site-packages/selenium/webdriver/remote/webdriver.py:437\u001b[0m, in \u001b[0;36mWebDriver.get\u001b[0;34m(self, url)\u001b[0m\n\u001b[1;32m    <a href='file:///Users/aaronbethea/Documents/SoftwareDev/pythonApps/cfvg_od-image_scraper/cfvg_env/lib/python3.10/site-packages/selenium/webdriver/remote/webdriver.py?line=432'>433</a>\u001b[0m \u001b[39mdef\u001b[39;00m \u001b[39mget\u001b[39m(\u001b[39mself\u001b[39m, url: \u001b[39mstr\u001b[39m) \u001b[39m-\u001b[39m\u001b[39m>\u001b[39m \u001b[39mNone\u001b[39;00m:\n\u001b[1;32m    <a href='file:///Users/aaronbethea/Documents/SoftwareDev/pythonApps/cfvg_od-image_scraper/cfvg_env/lib/python3.10/site-packages/selenium/webdriver/remote/webdriver.py?line=433'>434</a>\u001b[0m     \u001b[39m\"\"\"\u001b[39;00m\n\u001b[1;32m    <a href='file:///Users/aaronbethea/Documents/SoftwareDev/pythonApps/cfvg_od-image_scraper/cfvg_env/lib/python3.10/site-packages/selenium/webdriver/remote/webdriver.py?line=434'>435</a>\u001b[0m \u001b[39m    Loads a web page in the current browser session.\u001b[39;00m\n\u001b[1;32m    <a href='file:///Users/aaronbethea/Documents/SoftwareDev/pythonApps/cfvg_od-image_scraper/cfvg_env/lib/python3.10/site-packages/selenium/webdriver/remote/webdriver.py?line=435'>436</a>\u001b[0m \u001b[39m    \"\"\"\u001b[39;00m\n\u001b[0;32m--> <a href='file:///Users/aaronbethea/Documents/SoftwareDev/pythonApps/cfvg_od-image_scraper/cfvg_env/lib/python3.10/site-packages/selenium/webdriver/remote/webdriver.py?line=436'>437</a>\u001b[0m     \u001b[39mself\u001b[39;49m\u001b[39m.\u001b[39;49mexecute(Command\u001b[39m.\u001b[39;49mGET, {\u001b[39m'\u001b[39;49m\u001b[39murl\u001b[39;49m\u001b[39m'\u001b[39;49m: url})\n",
      "File \u001b[0;32m~/Documents/SoftwareDev/pythonApps/cfvg_od-image_scraper/cfvg_env/lib/python3.10/site-packages/selenium/webdriver/remote/webdriver.py:423\u001b[0m, in \u001b[0;36mWebDriver.execute\u001b[0;34m(self, driver_command, params)\u001b[0m\n\u001b[1;32m    <a href='file:///Users/aaronbethea/Documents/SoftwareDev/pythonApps/cfvg_od-image_scraper/cfvg_env/lib/python3.10/site-packages/selenium/webdriver/remote/webdriver.py?line=419'>420</a>\u001b[0m         params[\u001b[39m'\u001b[39m\u001b[39msessionId\u001b[39m\u001b[39m'\u001b[39m] \u001b[39m=\u001b[39m \u001b[39mself\u001b[39m\u001b[39m.\u001b[39msession_id\n\u001b[1;32m    <a href='file:///Users/aaronbethea/Documents/SoftwareDev/pythonApps/cfvg_od-image_scraper/cfvg_env/lib/python3.10/site-packages/selenium/webdriver/remote/webdriver.py?line=421'>422</a>\u001b[0m params \u001b[39m=\u001b[39m \u001b[39mself\u001b[39m\u001b[39m.\u001b[39m_wrap_value(params)\n\u001b[0;32m--> <a href='file:///Users/aaronbethea/Documents/SoftwareDev/pythonApps/cfvg_od-image_scraper/cfvg_env/lib/python3.10/site-packages/selenium/webdriver/remote/webdriver.py?line=422'>423</a>\u001b[0m response \u001b[39m=\u001b[39m \u001b[39mself\u001b[39;49m\u001b[39m.\u001b[39;49mcommand_executor\u001b[39m.\u001b[39;49mexecute(driver_command, params)\n\u001b[1;32m    <a href='file:///Users/aaronbethea/Documents/SoftwareDev/pythonApps/cfvg_od-image_scraper/cfvg_env/lib/python3.10/site-packages/selenium/webdriver/remote/webdriver.py?line=423'>424</a>\u001b[0m \u001b[39mif\u001b[39;00m response:\n\u001b[1;32m    <a href='file:///Users/aaronbethea/Documents/SoftwareDev/pythonApps/cfvg_od-image_scraper/cfvg_env/lib/python3.10/site-packages/selenium/webdriver/remote/webdriver.py?line=424'>425</a>\u001b[0m     \u001b[39mself\u001b[39m\u001b[39m.\u001b[39merror_handler\u001b[39m.\u001b[39mcheck_response(response)\n",
      "File \u001b[0;32m~/Documents/SoftwareDev/pythonApps/cfvg_od-image_scraper/cfvg_env/lib/python3.10/site-packages/selenium/webdriver/remote/remote_connection.py:333\u001b[0m, in \u001b[0;36mRemoteConnection.execute\u001b[0;34m(self, command, params)\u001b[0m\n\u001b[1;32m    <a href='file:///Users/aaronbethea/Documents/SoftwareDev/pythonApps/cfvg_od-image_scraper/cfvg_env/lib/python3.10/site-packages/selenium/webdriver/remote/remote_connection.py?line=330'>331</a>\u001b[0m data \u001b[39m=\u001b[39m utils\u001b[39m.\u001b[39mdump_json(params)\n\u001b[1;32m    <a href='file:///Users/aaronbethea/Documents/SoftwareDev/pythonApps/cfvg_od-image_scraper/cfvg_env/lib/python3.10/site-packages/selenium/webdriver/remote/remote_connection.py?line=331'>332</a>\u001b[0m url \u001b[39m=\u001b[39m \u001b[39mf\u001b[39m\u001b[39m\"\u001b[39m\u001b[39m{\u001b[39;00m\u001b[39mself\u001b[39m\u001b[39m.\u001b[39m_url\u001b[39m}\u001b[39;00m\u001b[39m{\u001b[39;00mpath\u001b[39m}\u001b[39;00m\u001b[39m\"\u001b[39m\n\u001b[0;32m--> <a href='file:///Users/aaronbethea/Documents/SoftwareDev/pythonApps/cfvg_od-image_scraper/cfvg_env/lib/python3.10/site-packages/selenium/webdriver/remote/remote_connection.py?line=332'>333</a>\u001b[0m \u001b[39mreturn\u001b[39;00m \u001b[39mself\u001b[39;49m\u001b[39m.\u001b[39;49m_request(command_info[\u001b[39m0\u001b[39;49m], url, body\u001b[39m=\u001b[39;49mdata)\n",
      "File \u001b[0;32m~/Documents/SoftwareDev/pythonApps/cfvg_od-image_scraper/cfvg_env/lib/python3.10/site-packages/selenium/webdriver/remote/remote_connection.py:355\u001b[0m, in \u001b[0;36mRemoteConnection._request\u001b[0;34m(self, method, url, body)\u001b[0m\n\u001b[1;32m    <a href='file:///Users/aaronbethea/Documents/SoftwareDev/pythonApps/cfvg_od-image_scraper/cfvg_env/lib/python3.10/site-packages/selenium/webdriver/remote/remote_connection.py?line=351'>352</a>\u001b[0m     body \u001b[39m=\u001b[39m \u001b[39mNone\u001b[39;00m\n\u001b[1;32m    <a href='file:///Users/aaronbethea/Documents/SoftwareDev/pythonApps/cfvg_od-image_scraper/cfvg_env/lib/python3.10/site-packages/selenium/webdriver/remote/remote_connection.py?line=353'>354</a>\u001b[0m \u001b[39mif\u001b[39;00m \u001b[39mself\u001b[39m\u001b[39m.\u001b[39mkeep_alive:\n\u001b[0;32m--> <a href='file:///Users/aaronbethea/Documents/SoftwareDev/pythonApps/cfvg_od-image_scraper/cfvg_env/lib/python3.10/site-packages/selenium/webdriver/remote/remote_connection.py?line=354'>355</a>\u001b[0m     resp \u001b[39m=\u001b[39m \u001b[39mself\u001b[39;49m\u001b[39m.\u001b[39;49m_conn\u001b[39m.\u001b[39;49mrequest(method, url, body\u001b[39m=\u001b[39;49mbody, headers\u001b[39m=\u001b[39;49mheaders)\n\u001b[1;32m    <a href='file:///Users/aaronbethea/Documents/SoftwareDev/pythonApps/cfvg_od-image_scraper/cfvg_env/lib/python3.10/site-packages/selenium/webdriver/remote/remote_connection.py?line=355'>356</a>\u001b[0m     statuscode \u001b[39m=\u001b[39m resp\u001b[39m.\u001b[39mstatus\n\u001b[1;32m    <a href='file:///Users/aaronbethea/Documents/SoftwareDev/pythonApps/cfvg_od-image_scraper/cfvg_env/lib/python3.10/site-packages/selenium/webdriver/remote/remote_connection.py?line=356'>357</a>\u001b[0m \u001b[39melse\u001b[39;00m:\n",
      "File \u001b[0;32m~/Documents/SoftwareDev/pythonApps/cfvg_od-image_scraper/cfvg_env/lib/python3.10/site-packages/urllib3/request.py:78\u001b[0m, in \u001b[0;36mRequestMethods.request\u001b[0;34m(self, method, url, fields, headers, **urlopen_kw)\u001b[0m\n\u001b[1;32m     <a href='file:///Users/aaronbethea/Documents/SoftwareDev/pythonApps/cfvg_od-image_scraper/cfvg_env/lib/python3.10/site-packages/urllib3/request.py?line=73'>74</a>\u001b[0m     \u001b[39mreturn\u001b[39;00m \u001b[39mself\u001b[39m\u001b[39m.\u001b[39mrequest_encode_url(\n\u001b[1;32m     <a href='file:///Users/aaronbethea/Documents/SoftwareDev/pythonApps/cfvg_od-image_scraper/cfvg_env/lib/python3.10/site-packages/urllib3/request.py?line=74'>75</a>\u001b[0m         method, url, fields\u001b[39m=\u001b[39mfields, headers\u001b[39m=\u001b[39mheaders, \u001b[39m*\u001b[39m\u001b[39m*\u001b[39murlopen_kw\n\u001b[1;32m     <a href='file:///Users/aaronbethea/Documents/SoftwareDev/pythonApps/cfvg_od-image_scraper/cfvg_env/lib/python3.10/site-packages/urllib3/request.py?line=75'>76</a>\u001b[0m     )\n\u001b[1;32m     <a href='file:///Users/aaronbethea/Documents/SoftwareDev/pythonApps/cfvg_od-image_scraper/cfvg_env/lib/python3.10/site-packages/urllib3/request.py?line=76'>77</a>\u001b[0m \u001b[39melse\u001b[39;00m:\n\u001b[0;32m---> <a href='file:///Users/aaronbethea/Documents/SoftwareDev/pythonApps/cfvg_od-image_scraper/cfvg_env/lib/python3.10/site-packages/urllib3/request.py?line=77'>78</a>\u001b[0m     \u001b[39mreturn\u001b[39;00m \u001b[39mself\u001b[39;49m\u001b[39m.\u001b[39;49mrequest_encode_body(\n\u001b[1;32m     <a href='file:///Users/aaronbethea/Documents/SoftwareDev/pythonApps/cfvg_od-image_scraper/cfvg_env/lib/python3.10/site-packages/urllib3/request.py?line=78'>79</a>\u001b[0m         method, url, fields\u001b[39m=\u001b[39;49mfields, headers\u001b[39m=\u001b[39;49mheaders, \u001b[39m*\u001b[39;49m\u001b[39m*\u001b[39;49murlopen_kw\n\u001b[1;32m     <a href='file:///Users/aaronbethea/Documents/SoftwareDev/pythonApps/cfvg_od-image_scraper/cfvg_env/lib/python3.10/site-packages/urllib3/request.py?line=79'>80</a>\u001b[0m     )\n",
      "File \u001b[0;32m~/Documents/SoftwareDev/pythonApps/cfvg_od-image_scraper/cfvg_env/lib/python3.10/site-packages/urllib3/request.py:170\u001b[0m, in \u001b[0;36mRequestMethods.request_encode_body\u001b[0;34m(self, method, url, fields, headers, encode_multipart, multipart_boundary, **urlopen_kw)\u001b[0m\n\u001b[1;32m    <a href='file:///Users/aaronbethea/Documents/SoftwareDev/pythonApps/cfvg_od-image_scraper/cfvg_env/lib/python3.10/site-packages/urllib3/request.py?line=166'>167</a>\u001b[0m extra_kw[\u001b[39m\"\u001b[39m\u001b[39mheaders\u001b[39m\u001b[39m\"\u001b[39m]\u001b[39m.\u001b[39mupdate(headers)\n\u001b[1;32m    <a href='file:///Users/aaronbethea/Documents/SoftwareDev/pythonApps/cfvg_od-image_scraper/cfvg_env/lib/python3.10/site-packages/urllib3/request.py?line=167'>168</a>\u001b[0m extra_kw\u001b[39m.\u001b[39mupdate(urlopen_kw)\n\u001b[0;32m--> <a href='file:///Users/aaronbethea/Documents/SoftwareDev/pythonApps/cfvg_od-image_scraper/cfvg_env/lib/python3.10/site-packages/urllib3/request.py?line=169'>170</a>\u001b[0m \u001b[39mreturn\u001b[39;00m \u001b[39mself\u001b[39;49m\u001b[39m.\u001b[39;49murlopen(method, url, \u001b[39m*\u001b[39;49m\u001b[39m*\u001b[39;49mextra_kw)\n",
      "File \u001b[0;32m~/Documents/SoftwareDev/pythonApps/cfvg_od-image_scraper/cfvg_env/lib/python3.10/site-packages/urllib3/poolmanager.py:376\u001b[0m, in \u001b[0;36mPoolManager.urlopen\u001b[0;34m(self, method, url, redirect, **kw)\u001b[0m\n\u001b[1;32m    <a href='file:///Users/aaronbethea/Documents/SoftwareDev/pythonApps/cfvg_od-image_scraper/cfvg_env/lib/python3.10/site-packages/urllib3/poolmanager.py?line=373'>374</a>\u001b[0m     response \u001b[39m=\u001b[39m conn\u001b[39m.\u001b[39murlopen(method, url, \u001b[39m*\u001b[39m\u001b[39m*\u001b[39mkw)\n\u001b[1;32m    <a href='file:///Users/aaronbethea/Documents/SoftwareDev/pythonApps/cfvg_od-image_scraper/cfvg_env/lib/python3.10/site-packages/urllib3/poolmanager.py?line=374'>375</a>\u001b[0m \u001b[39melse\u001b[39;00m:\n\u001b[0;32m--> <a href='file:///Users/aaronbethea/Documents/SoftwareDev/pythonApps/cfvg_od-image_scraper/cfvg_env/lib/python3.10/site-packages/urllib3/poolmanager.py?line=375'>376</a>\u001b[0m     response \u001b[39m=\u001b[39m conn\u001b[39m.\u001b[39;49murlopen(method, u\u001b[39m.\u001b[39;49mrequest_uri, \u001b[39m*\u001b[39;49m\u001b[39m*\u001b[39;49mkw)\n\u001b[1;32m    <a href='file:///Users/aaronbethea/Documents/SoftwareDev/pythonApps/cfvg_od-image_scraper/cfvg_env/lib/python3.10/site-packages/urllib3/poolmanager.py?line=377'>378</a>\u001b[0m redirect_location \u001b[39m=\u001b[39m redirect \u001b[39mand\u001b[39;00m response\u001b[39m.\u001b[39mget_redirect_location()\n\u001b[1;32m    <a href='file:///Users/aaronbethea/Documents/SoftwareDev/pythonApps/cfvg_od-image_scraper/cfvg_env/lib/python3.10/site-packages/urllib3/poolmanager.py?line=378'>379</a>\u001b[0m \u001b[39mif\u001b[39;00m \u001b[39mnot\u001b[39;00m redirect_location:\n",
      "File \u001b[0;32m~/Documents/SoftwareDev/pythonApps/cfvg_od-image_scraper/cfvg_env/lib/python3.10/site-packages/urllib3/connectionpool.py:703\u001b[0m, in \u001b[0;36mHTTPConnectionPool.urlopen\u001b[0;34m(self, method, url, body, headers, retries, redirect, assert_same_host, timeout, pool_timeout, release_conn, chunked, body_pos, **response_kw)\u001b[0m\n\u001b[1;32m    <a href='file:///Users/aaronbethea/Documents/SoftwareDev/pythonApps/cfvg_od-image_scraper/cfvg_env/lib/python3.10/site-packages/urllib3/connectionpool.py?line=699'>700</a>\u001b[0m     \u001b[39mself\u001b[39m\u001b[39m.\u001b[39m_prepare_proxy(conn)\n\u001b[1;32m    <a href='file:///Users/aaronbethea/Documents/SoftwareDev/pythonApps/cfvg_od-image_scraper/cfvg_env/lib/python3.10/site-packages/urllib3/connectionpool.py?line=701'>702</a>\u001b[0m \u001b[39m# Make the request on the httplib connection object.\u001b[39;00m\n\u001b[0;32m--> <a href='file:///Users/aaronbethea/Documents/SoftwareDev/pythonApps/cfvg_od-image_scraper/cfvg_env/lib/python3.10/site-packages/urllib3/connectionpool.py?line=702'>703</a>\u001b[0m httplib_response \u001b[39m=\u001b[39m \u001b[39mself\u001b[39;49m\u001b[39m.\u001b[39;49m_make_request(\n\u001b[1;32m    <a href='file:///Users/aaronbethea/Documents/SoftwareDev/pythonApps/cfvg_od-image_scraper/cfvg_env/lib/python3.10/site-packages/urllib3/connectionpool.py?line=703'>704</a>\u001b[0m     conn,\n\u001b[1;32m    <a href='file:///Users/aaronbethea/Documents/SoftwareDev/pythonApps/cfvg_od-image_scraper/cfvg_env/lib/python3.10/site-packages/urllib3/connectionpool.py?line=704'>705</a>\u001b[0m     method,\n\u001b[1;32m    <a href='file:///Users/aaronbethea/Documents/SoftwareDev/pythonApps/cfvg_od-image_scraper/cfvg_env/lib/python3.10/site-packages/urllib3/connectionpool.py?line=705'>706</a>\u001b[0m     url,\n\u001b[1;32m    <a href='file:///Users/aaronbethea/Documents/SoftwareDev/pythonApps/cfvg_od-image_scraper/cfvg_env/lib/python3.10/site-packages/urllib3/connectionpool.py?line=706'>707</a>\u001b[0m     timeout\u001b[39m=\u001b[39;49mtimeout_obj,\n\u001b[1;32m    <a href='file:///Users/aaronbethea/Documents/SoftwareDev/pythonApps/cfvg_od-image_scraper/cfvg_env/lib/python3.10/site-packages/urllib3/connectionpool.py?line=707'>708</a>\u001b[0m     body\u001b[39m=\u001b[39;49mbody,\n\u001b[1;32m    <a href='file:///Users/aaronbethea/Documents/SoftwareDev/pythonApps/cfvg_od-image_scraper/cfvg_env/lib/python3.10/site-packages/urllib3/connectionpool.py?line=708'>709</a>\u001b[0m     headers\u001b[39m=\u001b[39;49mheaders,\n\u001b[1;32m    <a href='file:///Users/aaronbethea/Documents/SoftwareDev/pythonApps/cfvg_od-image_scraper/cfvg_env/lib/python3.10/site-packages/urllib3/connectionpool.py?line=709'>710</a>\u001b[0m     chunked\u001b[39m=\u001b[39;49mchunked,\n\u001b[1;32m    <a href='file:///Users/aaronbethea/Documents/SoftwareDev/pythonApps/cfvg_od-image_scraper/cfvg_env/lib/python3.10/site-packages/urllib3/connectionpool.py?line=710'>711</a>\u001b[0m )\n\u001b[1;32m    <a href='file:///Users/aaronbethea/Documents/SoftwareDev/pythonApps/cfvg_od-image_scraper/cfvg_env/lib/python3.10/site-packages/urllib3/connectionpool.py?line=712'>713</a>\u001b[0m \u001b[39m# If we're going to release the connection in ``finally:``, then\u001b[39;00m\n\u001b[1;32m    <a href='file:///Users/aaronbethea/Documents/SoftwareDev/pythonApps/cfvg_od-image_scraper/cfvg_env/lib/python3.10/site-packages/urllib3/connectionpool.py?line=713'>714</a>\u001b[0m \u001b[39m# the response doesn't need to know about the connection. Otherwise\u001b[39;00m\n\u001b[1;32m    <a href='file:///Users/aaronbethea/Documents/SoftwareDev/pythonApps/cfvg_od-image_scraper/cfvg_env/lib/python3.10/site-packages/urllib3/connectionpool.py?line=714'>715</a>\u001b[0m \u001b[39m# it will also try to release it and we'll have a double-release\u001b[39;00m\n\u001b[1;32m    <a href='file:///Users/aaronbethea/Documents/SoftwareDev/pythonApps/cfvg_od-image_scraper/cfvg_env/lib/python3.10/site-packages/urllib3/connectionpool.py?line=715'>716</a>\u001b[0m \u001b[39m# mess.\u001b[39;00m\n\u001b[1;32m    <a href='file:///Users/aaronbethea/Documents/SoftwareDev/pythonApps/cfvg_od-image_scraper/cfvg_env/lib/python3.10/site-packages/urllib3/connectionpool.py?line=716'>717</a>\u001b[0m response_conn \u001b[39m=\u001b[39m conn \u001b[39mif\u001b[39;00m \u001b[39mnot\u001b[39;00m release_conn \u001b[39melse\u001b[39;00m \u001b[39mNone\u001b[39;00m\n",
      "File \u001b[0;32m~/Documents/SoftwareDev/pythonApps/cfvg_od-image_scraper/cfvg_env/lib/python3.10/site-packages/urllib3/connectionpool.py:449\u001b[0m, in \u001b[0;36mHTTPConnectionPool._make_request\u001b[0;34m(self, conn, method, url, timeout, chunked, **httplib_request_kw)\u001b[0m\n\u001b[1;32m    <a href='file:///Users/aaronbethea/Documents/SoftwareDev/pythonApps/cfvg_od-image_scraper/cfvg_env/lib/python3.10/site-packages/urllib3/connectionpool.py?line=443'>444</a>\u001b[0m             httplib_response \u001b[39m=\u001b[39m conn\u001b[39m.\u001b[39mgetresponse()\n\u001b[1;32m    <a href='file:///Users/aaronbethea/Documents/SoftwareDev/pythonApps/cfvg_od-image_scraper/cfvg_env/lib/python3.10/site-packages/urllib3/connectionpool.py?line=444'>445</a>\u001b[0m         \u001b[39mexcept\u001b[39;00m \u001b[39mBaseException\u001b[39;00m \u001b[39mas\u001b[39;00m e:\n\u001b[1;32m    <a href='file:///Users/aaronbethea/Documents/SoftwareDev/pythonApps/cfvg_od-image_scraper/cfvg_env/lib/python3.10/site-packages/urllib3/connectionpool.py?line=445'>446</a>\u001b[0m             \u001b[39m# Remove the TypeError from the exception chain in\u001b[39;00m\n\u001b[1;32m    <a href='file:///Users/aaronbethea/Documents/SoftwareDev/pythonApps/cfvg_od-image_scraper/cfvg_env/lib/python3.10/site-packages/urllib3/connectionpool.py?line=446'>447</a>\u001b[0m             \u001b[39m# Python 3 (including for exceptions like SystemExit).\u001b[39;00m\n\u001b[1;32m    <a href='file:///Users/aaronbethea/Documents/SoftwareDev/pythonApps/cfvg_od-image_scraper/cfvg_env/lib/python3.10/site-packages/urllib3/connectionpool.py?line=447'>448</a>\u001b[0m             \u001b[39m# Otherwise it looks like a bug in the code.\u001b[39;00m\n\u001b[0;32m--> <a href='file:///Users/aaronbethea/Documents/SoftwareDev/pythonApps/cfvg_od-image_scraper/cfvg_env/lib/python3.10/site-packages/urllib3/connectionpool.py?line=448'>449</a>\u001b[0m             six\u001b[39m.\u001b[39;49mraise_from(e, \u001b[39mNone\u001b[39;49;00m)\n\u001b[1;32m    <a href='file:///Users/aaronbethea/Documents/SoftwareDev/pythonApps/cfvg_od-image_scraper/cfvg_env/lib/python3.10/site-packages/urllib3/connectionpool.py?line=449'>450</a>\u001b[0m \u001b[39mexcept\u001b[39;00m (SocketTimeout, BaseSSLError, SocketError) \u001b[39mas\u001b[39;00m e:\n\u001b[1;32m    <a href='file:///Users/aaronbethea/Documents/SoftwareDev/pythonApps/cfvg_od-image_scraper/cfvg_env/lib/python3.10/site-packages/urllib3/connectionpool.py?line=450'>451</a>\u001b[0m     \u001b[39mself\u001b[39m\u001b[39m.\u001b[39m_raise_timeout(err\u001b[39m=\u001b[39me, url\u001b[39m=\u001b[39murl, timeout_value\u001b[39m=\u001b[39mread_timeout)\n",
      "File \u001b[0;32m<string>:3\u001b[0m, in \u001b[0;36mraise_from\u001b[0;34m(value, from_value)\u001b[0m\n",
      "File \u001b[0;32m~/Documents/SoftwareDev/pythonApps/cfvg_od-image_scraper/cfvg_env/lib/python3.10/site-packages/urllib3/connectionpool.py:444\u001b[0m, in \u001b[0;36mHTTPConnectionPool._make_request\u001b[0;34m(self, conn, method, url, timeout, chunked, **httplib_request_kw)\u001b[0m\n\u001b[1;32m    <a href='file:///Users/aaronbethea/Documents/SoftwareDev/pythonApps/cfvg_od-image_scraper/cfvg_env/lib/python3.10/site-packages/urllib3/connectionpool.py?line=440'>441</a>\u001b[0m \u001b[39mexcept\u001b[39;00m \u001b[39mTypeError\u001b[39;00m:\n\u001b[1;32m    <a href='file:///Users/aaronbethea/Documents/SoftwareDev/pythonApps/cfvg_od-image_scraper/cfvg_env/lib/python3.10/site-packages/urllib3/connectionpool.py?line=441'>442</a>\u001b[0m     \u001b[39m# Python 3\u001b[39;00m\n\u001b[1;32m    <a href='file:///Users/aaronbethea/Documents/SoftwareDev/pythonApps/cfvg_od-image_scraper/cfvg_env/lib/python3.10/site-packages/urllib3/connectionpool.py?line=442'>443</a>\u001b[0m     \u001b[39mtry\u001b[39;00m:\n\u001b[0;32m--> <a href='file:///Users/aaronbethea/Documents/SoftwareDev/pythonApps/cfvg_od-image_scraper/cfvg_env/lib/python3.10/site-packages/urllib3/connectionpool.py?line=443'>444</a>\u001b[0m         httplib_response \u001b[39m=\u001b[39m conn\u001b[39m.\u001b[39;49mgetresponse()\n\u001b[1;32m    <a href='file:///Users/aaronbethea/Documents/SoftwareDev/pythonApps/cfvg_od-image_scraper/cfvg_env/lib/python3.10/site-packages/urllib3/connectionpool.py?line=444'>445</a>\u001b[0m     \u001b[39mexcept\u001b[39;00m \u001b[39mBaseException\u001b[39;00m \u001b[39mas\u001b[39;00m e:\n\u001b[1;32m    <a href='file:///Users/aaronbethea/Documents/SoftwareDev/pythonApps/cfvg_od-image_scraper/cfvg_env/lib/python3.10/site-packages/urllib3/connectionpool.py?line=445'>446</a>\u001b[0m         \u001b[39m# Remove the TypeError from the exception chain in\u001b[39;00m\n\u001b[1;32m    <a href='file:///Users/aaronbethea/Documents/SoftwareDev/pythonApps/cfvg_od-image_scraper/cfvg_env/lib/python3.10/site-packages/urllib3/connectionpool.py?line=446'>447</a>\u001b[0m         \u001b[39m# Python 3 (including for exceptions like SystemExit).\u001b[39;00m\n\u001b[1;32m    <a href='file:///Users/aaronbethea/Documents/SoftwareDev/pythonApps/cfvg_od-image_scraper/cfvg_env/lib/python3.10/site-packages/urllib3/connectionpool.py?line=447'>448</a>\u001b[0m         \u001b[39m# Otherwise it looks like a bug in the code.\u001b[39;00m\n\u001b[1;32m    <a href='file:///Users/aaronbethea/Documents/SoftwareDev/pythonApps/cfvg_od-image_scraper/cfvg_env/lib/python3.10/site-packages/urllib3/connectionpool.py?line=448'>449</a>\u001b[0m         six\u001b[39m.\u001b[39mraise_from(e, \u001b[39mNone\u001b[39;00m)\n",
      "File \u001b[0;32m/Library/Frameworks/Python.framework/Versions/3.10/lib/python3.10/http/client.py:1374\u001b[0m, in \u001b[0;36mHTTPConnection.getresponse\u001b[0;34m(self)\u001b[0m\n\u001b[1;32m   <a href='file:///Library/Frameworks/Python.framework/Versions/3.10/lib/python3.10/http/client.py?line=1371'>1372</a>\u001b[0m \u001b[39mtry\u001b[39;00m:\n\u001b[1;32m   <a href='file:///Library/Frameworks/Python.framework/Versions/3.10/lib/python3.10/http/client.py?line=1372'>1373</a>\u001b[0m     \u001b[39mtry\u001b[39;00m:\n\u001b[0;32m-> <a href='file:///Library/Frameworks/Python.framework/Versions/3.10/lib/python3.10/http/client.py?line=1373'>1374</a>\u001b[0m         response\u001b[39m.\u001b[39;49mbegin()\n\u001b[1;32m   <a href='file:///Library/Frameworks/Python.framework/Versions/3.10/lib/python3.10/http/client.py?line=1374'>1375</a>\u001b[0m     \u001b[39mexcept\u001b[39;00m \u001b[39mConnectionError\u001b[39;00m:\n\u001b[1;32m   <a href='file:///Library/Frameworks/Python.framework/Versions/3.10/lib/python3.10/http/client.py?line=1375'>1376</a>\u001b[0m         \u001b[39mself\u001b[39m\u001b[39m.\u001b[39mclose()\n",
      "File \u001b[0;32m/Library/Frameworks/Python.framework/Versions/3.10/lib/python3.10/http/client.py:318\u001b[0m, in \u001b[0;36mHTTPResponse.begin\u001b[0;34m(self)\u001b[0m\n\u001b[1;32m    <a href='file:///Library/Frameworks/Python.framework/Versions/3.10/lib/python3.10/http/client.py?line=315'>316</a>\u001b[0m \u001b[39m# read until we get a non-100 response\u001b[39;00m\n\u001b[1;32m    <a href='file:///Library/Frameworks/Python.framework/Versions/3.10/lib/python3.10/http/client.py?line=316'>317</a>\u001b[0m \u001b[39mwhile\u001b[39;00m \u001b[39mTrue\u001b[39;00m:\n\u001b[0;32m--> <a href='file:///Library/Frameworks/Python.framework/Versions/3.10/lib/python3.10/http/client.py?line=317'>318</a>\u001b[0m     version, status, reason \u001b[39m=\u001b[39m \u001b[39mself\u001b[39;49m\u001b[39m.\u001b[39;49m_read_status()\n\u001b[1;32m    <a href='file:///Library/Frameworks/Python.framework/Versions/3.10/lib/python3.10/http/client.py?line=318'>319</a>\u001b[0m     \u001b[39mif\u001b[39;00m status \u001b[39m!=\u001b[39m CONTINUE:\n\u001b[1;32m    <a href='file:///Library/Frameworks/Python.framework/Versions/3.10/lib/python3.10/http/client.py?line=319'>320</a>\u001b[0m         \u001b[39mbreak\u001b[39;00m\n",
      "File \u001b[0;32m/Library/Frameworks/Python.framework/Versions/3.10/lib/python3.10/http/client.py:279\u001b[0m, in \u001b[0;36mHTTPResponse._read_status\u001b[0;34m(self)\u001b[0m\n\u001b[1;32m    <a href='file:///Library/Frameworks/Python.framework/Versions/3.10/lib/python3.10/http/client.py?line=277'>278</a>\u001b[0m \u001b[39mdef\u001b[39;00m \u001b[39m_read_status\u001b[39m(\u001b[39mself\u001b[39m):\n\u001b[0;32m--> <a href='file:///Library/Frameworks/Python.framework/Versions/3.10/lib/python3.10/http/client.py?line=278'>279</a>\u001b[0m     line \u001b[39m=\u001b[39m \u001b[39mstr\u001b[39m(\u001b[39mself\u001b[39;49m\u001b[39m.\u001b[39;49mfp\u001b[39m.\u001b[39;49mreadline(_MAXLINE \u001b[39m+\u001b[39;49m \u001b[39m1\u001b[39;49m), \u001b[39m\"\u001b[39m\u001b[39miso-8859-1\u001b[39m\u001b[39m\"\u001b[39m)\n\u001b[1;32m    <a href='file:///Library/Frameworks/Python.framework/Versions/3.10/lib/python3.10/http/client.py?line=279'>280</a>\u001b[0m     \u001b[39mif\u001b[39;00m \u001b[39mlen\u001b[39m(line) \u001b[39m>\u001b[39m _MAXLINE:\n\u001b[1;32m    <a href='file:///Library/Frameworks/Python.framework/Versions/3.10/lib/python3.10/http/client.py?line=280'>281</a>\u001b[0m         \u001b[39mraise\u001b[39;00m LineTooLong(\u001b[39m\"\u001b[39m\u001b[39mstatus line\u001b[39m\u001b[39m\"\u001b[39m)\n",
      "File \u001b[0;32m/Library/Frameworks/Python.framework/Versions/3.10/lib/python3.10/socket.py:705\u001b[0m, in \u001b[0;36mSocketIO.readinto\u001b[0;34m(self, b)\u001b[0m\n\u001b[1;32m    <a href='file:///Library/Frameworks/Python.framework/Versions/3.10/lib/python3.10/socket.py?line=702'>703</a>\u001b[0m \u001b[39mwhile\u001b[39;00m \u001b[39mTrue\u001b[39;00m:\n\u001b[1;32m    <a href='file:///Library/Frameworks/Python.framework/Versions/3.10/lib/python3.10/socket.py?line=703'>704</a>\u001b[0m     \u001b[39mtry\u001b[39;00m:\n\u001b[0;32m--> <a href='file:///Library/Frameworks/Python.framework/Versions/3.10/lib/python3.10/socket.py?line=704'>705</a>\u001b[0m         \u001b[39mreturn\u001b[39;00m \u001b[39mself\u001b[39;49m\u001b[39m.\u001b[39;49m_sock\u001b[39m.\u001b[39;49mrecv_into(b)\n\u001b[1;32m    <a href='file:///Library/Frameworks/Python.framework/Versions/3.10/lib/python3.10/socket.py?line=705'>706</a>\u001b[0m     \u001b[39mexcept\u001b[39;00m timeout:\n\u001b[1;32m    <a href='file:///Library/Frameworks/Python.framework/Versions/3.10/lib/python3.10/socket.py?line=706'>707</a>\u001b[0m         \u001b[39mself\u001b[39m\u001b[39m.\u001b[39m_timeout_occurred \u001b[39m=\u001b[39m \u001b[39mTrue\u001b[39;00m\n",
      "\u001b[0;31mKeyboardInterrupt\u001b[0m: "
     ]
    }
   ],
   "source": [
    "#load th browser object\n",
    "browser = get_selenium()                           \n",
    "\n"
   ]
  },
  {
   "cell_type": "code",
   "execution_count": 19,
   "metadata": {},
   "outputs": [
    {
     "name": "stdout",
     "output_type": "stream",
     "text": [
      "Start page load & Scroll\n",
      "6571\n"
     ]
    }
   ],
   "source": [
    "#get length of page\n",
    "browser.get(resource_url)\n",
    "print(\"Get page length\")\n",
    "lenOfPage = browser.execute_script(\"window.scrollTo(0, document.body.scrollHeight); var lenOfPage=document.body.scrollHeight;return lenOfPage;\")\n",
    "print(lenOfPage)"
   ]
  },
  {
   "cell_type": "code",
   "execution_count": 21,
   "metadata": {},
   "outputs": [
    {
     "name": "stdout",
     "output_type": "stream",
     "text": [
      "Begin Page\n",
      "Total Scrolls: 14\n",
      "Get source data\n",
      "data loaded\n"
     ]
    }
   ],
   "source": [
    "# Selenium script to scroll to the bottom, wait 3 seconds for the next batch of data to load, then continue scrolling.  It will continue to do this until the page stops loading new data.\n",
    "from bs4 import BeautifulSoup\n",
    "\n",
    "match = False\n",
    "print(\"Begin Page\")\n",
    "scrolls = 0\n",
    "while not match:\n",
    "    last_count = lenOfPage\n",
    "    time.sleep(5)\n",
    "    lenOfPage = browser.execute_script(\"window.scrollTo(0, document.body.scrollHeight);var lenOfPage=document.body.scrollHeight;return lenOfPage;\")\n",
    "    scrolls += 1\n",
    "    if last_count == lenOfPage:\n",
    "        match = True\n",
    "print(f\"Total Scrolls: {scrolls}\")\n",
    "#load page data\n",
    "print(\"Get source data\")\n",
    "source_data = browser.page_source\n",
    "\n",
    "#grab beautiful soup object\n",
    "page_soup = BeautifulSoup(source_data)\n",
    "print(\"data loaded\")\n",
    "\n",
    "\n"
   ]
  },
  {
   "cell_type": "code",
   "execution_count": 24,
   "metadata": {},
   "outputs": [
    {
     "name": "stdout",
     "output_type": "stream",
     "text": [
      "213\n"
     ]
    }
   ],
   "source": [
    "results = page_soup.findAll(\"div\",\"cardlist_imagelist\")[0]\n",
    "cards = results.findAll(\"li\")\n",
    "print(len(cards))\n",
    "sample = cards[0]"
   ]
  },
  {
   "cell_type": "code",
   "execution_count": 77,
   "metadata": {},
   "outputs": [],
   "source": [
    "def get_card_data(element):\n",
    "    '''\n",
    "    @param element BS4 list element\n",
    "    '''\n",
    "    card_data = {}\n",
    "\n",
    "    text_data = element.find(\"div\",\"text\")\n",
    "    stats_data = str(text_data.find(\"div\",\"status\").text).strip().replace(\"｜\",\"\").split(\"\\n\")\n",
    "    #indexes\n",
    "    #card_type\n",
    "    #nation\n",
    "    #grade\n",
    "    #power\n",
    "    #shield\n",
    "\n",
    "    card_data.update({\n",
    "        \"card_num\":str(text_data.find('div','number').text).strip(),\n",
    "        \"card_name\":str(text_data.find('h5').text).strip(),\n",
    "        \"card_type\":stats_data[0],\n",
    "        \"nation\":stats_data[1], \n",
    "        \"grade\":stats_data[2].split(\" \")[-1],\n",
    "        \"power\":stats_data[3].split(\" \")[-1],\n",
    "        \"shield\":stats_data[-1].split(\" \")[-1],\n",
    "        \"image\":element.find(\"div\",\"image\").img.get('src'),\n",
    "        \"text\":text_data.find(\"p\").text,\n",
    "    })\n",
    "    return card_data"
   ]
  },
  {
   "cell_type": "code",
   "execution_count": 79,
   "metadata": {},
   "outputs": [
    {
     "name": "stdout",
     "output_type": "stream",
     "text": [
      "Parsing Card Data\n",
      "Complete\n"
     ]
    }
   ],
   "source": [
    "db = []\n",
    "print(\"Parsing Card Data\")\n",
    "for c in cards:\n",
    "    db.append(get_card_data(c))\n",
    "print(\"Complete\")"
   ]
  },
  {
   "cell_type": "code",
   "execution_count": 65,
   "metadata": {},
   "outputs": [
    {
     "name": "stdout",
     "output_type": "stream",
     "text": [
      "/cardlist/?cardno=D-BT01/001EN&expansion=167&view=text\n",
      "Image Link: https://s3-ap-northeast-1.amazonaws.com/en.cf-vanguard.com/wordpress/wp-content/images/cardlist/dbt01/dbt01_001.png\n",
      "Card Number: D-BT01/001EN\n",
      "Card Name: Vairina Valiente\n",
      "Card Stats\n",
      "['Normal Unit', 'Dragon Empire', 'Grade 3', 'Power 13000', 'Shield -']\n",
      "[overDress]－\"Trickstar\", or a grade 3 or less unit in the [overDress] state (You may place it by stacking it on the specified unit instead of normal calling it to (RC))[CONT](RC):This unit gets [Power] +5000 for each of this unit's originalDress. [AUTO](RC)[1/turn]:When the attack of this unit in the [overDress] state hits, [COST][Counter-Blast]1 & discard a card from your hand], and [Stand] this unit.\n"
     ]
    }
   ],
   "source": [
    "# print(sample.a.get(\"href\")) #bushi backend url\n",
    "# img_data = sample.find(\"div\",\"image\")\n",
    "# print(f\"Image Link: {img_data.img.get('src')}\")\n",
    "# #text\n",
    "# text_data = sample.find(\"div\",\"text\")\n",
    "# print(f\"Card Number: {str(text_data.find('div','number').text).strip()}\")\n",
    "# print(f\"Card Name: {str(text_data.find('h5').text).strip()}\")\n",
    "# print(\"Card Stats\")\n",
    "# stats_data = str(text_data.find(\"div\",\"status\").text).strip().replace(\"｜\",\"\").split(\"\\n\")\n",
    "# print(stats_data)\n",
    "# #card text\n",
    "# print(text_data.find(\"p\").text)\n",
    "# #print(\"data\")\n",
    "# #print(text_data)"
   ]
  },
  {
   "cell_type": "code",
   "execution_count": 81,
   "metadata": {},
   "outputs": [
    {
     "name": "stdout",
     "output_type": "stream",
     "text": [
      "Writing file\n",
      "Done\n"
     ]
    }
   ],
   "source": [
    "#save the list as a json obj\n",
    "import json \n",
    "print(\"Writing file\")\n",
    "with open(\"dbt01.json\",\"w\") as jf:\n",
    "    jf.write(json.dumps(db,indent=4))\n",
    "print(\"Done\")"
   ]
  }
 ],
 "metadata": {
  "interpreter": {
   "hash": "1b3c1d878b6660a3c601f65a9a156c37bd2da20876fcdbbb0ea47d4ca13d69f4"
  },
  "kernelspec": {
   "display_name": "Python 3.10.2 ('cfvg_env': venv)",
   "language": "python",
   "name": "python3"
  },
  "language_info": {
   "codemirror_mode": {
    "name": "ipython",
    "version": 3
   },
   "file_extension": ".py",
   "mimetype": "text/x-python",
   "name": "python",
   "nbconvert_exporter": "python",
   "pygments_lexer": "ipython3",
   "version": "3.10.4"
  },
  "orig_nbformat": 4
 },
 "nbformat": 4,
 "nbformat_minor": 2
}
